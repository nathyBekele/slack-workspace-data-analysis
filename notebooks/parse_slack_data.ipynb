{
 "cells": [
  {
   "cell_type": "code",
   "execution_count": 1,
   "metadata": {},
   "outputs": [],
   "source": [
    "%reload_ext autoreload\n",
    "%autoreload 2"
   ]
  },
  {
   "cell_type": "code",
   "execution_count": 18,
   "metadata": {},
   "outputs": [
    {
     "name": "stdout",
     "output_type": "stream",
     "text": [
      "Requirement already satisfied: wordcloud in /home/nati/.pyenv/versions/3.11.4/lib/python3.11/site-packages (1.9.2)\n",
      "Requirement already satisfied: numpy>=1.6.1 in /home/nati/.pyenv/versions/3.11.4/lib/python3.11/site-packages (from wordcloud) (1.26.2)\n",
      "Requirement already satisfied: pillow in /home/nati/.pyenv/versions/3.11.4/lib/python3.11/site-packages (from wordcloud) (10.1.0)\n",
      "Requirement already satisfied: matplotlib in /home/nati/.pyenv/versions/3.11.4/lib/python3.11/site-packages (from wordcloud) (3.8.0)\n",
      "Requirement already satisfied: contourpy>=1.0.1 in /home/nati/.pyenv/versions/3.11.4/lib/python3.11/site-packages (from matplotlib->wordcloud) (1.2.0)\n",
      "Requirement already satisfied: cycler>=0.10 in /home/nati/.pyenv/versions/3.11.4/lib/python3.11/site-packages (from matplotlib->wordcloud) (0.12.1)\n",
      "Requirement already satisfied: fonttools>=4.22.0 in /home/nati/.pyenv/versions/3.11.4/lib/python3.11/site-packages (from matplotlib->wordcloud) (4.45.1)\n",
      "Requirement already satisfied: kiwisolver>=1.0.1 in /home/nati/.pyenv/versions/3.11.4/lib/python3.11/site-packages (from matplotlib->wordcloud) (1.4.5)\n",
      "Requirement already satisfied: packaging>=20.0 in /home/nati/.pyenv/versions/3.11.4/lib/python3.11/site-packages (from matplotlib->wordcloud) (23.2)\n",
      "Requirement already satisfied: pyparsing>=2.3.1 in /home/nati/.pyenv/versions/3.11.4/lib/python3.11/site-packages (from matplotlib->wordcloud) (3.1.1)\n",
      "Requirement already satisfied: python-dateutil>=2.7 in /home/nati/.pyenv/versions/3.11.4/lib/python3.11/site-packages (from matplotlib->wordcloud) (2.8.2)\n",
      "Requirement already satisfied: six>=1.5 in /home/nati/.pyenv/versions/3.11.4/lib/python3.11/site-packages (from python-dateutil>=2.7->matplotlib->wordcloud) (1.16.0)\n",
      "\n",
      "\u001b[1m[\u001b[0m\u001b[34;49mnotice\u001b[0m\u001b[1;39;49m]\u001b[0m\u001b[39;49m A new release of pip is available: \u001b[0m\u001b[31;49m23.1.2\u001b[0m\u001b[39;49m -> \u001b[0m\u001b[32;49m23.3.1\u001b[0m\n",
      "\u001b[1m[\u001b[0m\u001b[34;49mnotice\u001b[0m\u001b[1;39;49m]\u001b[0m\u001b[39;49m To update, run: \u001b[0m\u001b[32;49mpip install --upgrade pip\u001b[0m\n",
      "Note: you may need to restart the kernel to use updated packages.\n"
     ]
    }
   ],
   "source": [
    "pip install wordcloud"
   ]
  },
  {
   "cell_type": "code",
   "execution_count": 3,
   "metadata": {},
   "outputs": [],
   "source": [
    "import os, sys\n",
    "import re\n",
    "import json\n",
    "import glob\n",
    "import datetime\n",
    "from collections import Counter\n",
    "\n",
    "import pandas as pd\n",
    "from matplotlib import pyplot as plt\n",
    "import seaborn as sns\n",
    "\n",
    "\n",
    "from nltk.corpus import stopwords\n",
    "from wordcloud import WordCloud\n"
   ]
  },
  {
   "cell_type": "code",
   "execution_count": 4,
   "metadata": {},
   "outputs": [],
   "source": [
    "# Add parent directory to path to import modules from src\n",
    "rpath = os.path.abspath('..')\n",
    "if rpath not in sys.path:\n",
    "    sys.path.insert(0, rpath)\n",
    "\n",
    "from src.loader import SlackDataLoader\n",
    "import src.utils as utils\n"
   ]
  },
  {
   "cell_type": "markdown",
   "metadata": {},
   "source": [
    "### Columns we can get from a slack message<br>\n",
    "\n",
    "message_type, message_content, sender_id, time_sent, message_distribution, time_thread_start, reply_count, reply_user_count, time_thread_end, reply_users"
   ]
  },
  {
   "cell_type": "markdown",
   "metadata": {},
   "source": [
    "From a single slack message, we can get <br>\n",
    "\n",
    "1. The message<br>\n",
    "2. Type (message, file, link, etc)<br>\n",
    "3. The sender_id (assigned by slack)<br>\n",
    "4. The time the message was sent<br>\n",
    "5. The team (i don't know what that is now)<br>\n",
    "6. The type of the message (broadcast message, inhouse, just messgae)<br>\n",
    "7. The thread the message generated (from here we can go):<br>\n",
    "    7.1 Text/content of the message<br>\n",
    "    7.2 The thread time of the message<br>\n",
    "    7.3 The thread count (reply count)<br>\n",
    "    7.4 The number of user that reply the message (count of users that participated in the thread)<br>\n",
    "    7.5 The time the last thread message was sent <br>\n",
    "    7.6 The users that participated in the thread (their ids are stored as well)<br>"
   ]
  },
  {
   "cell_type": "code",
   "execution_count": 7,
   "metadata": {},
   "outputs": [],
   "source": [
    "def get_top_20_user(data, channel='Random'):\n",
    "    \"\"\"get user with the highest number of message sent to any channel\"\"\"\n",
    "\n",
    "    data['sender_name'].value_counts()[:20].plot.bar(figsize=(15, 7.5))\n",
    "    plt.title(f'Top 20 Message Senders in #{channel} channels', size=15, fontweight='bold')\n",
    "    plt.xlabel(\"Sender Name\", size=18); plt.ylabel(\"Frequency\", size=14);\n",
    "    plt.xticks(size=12); plt.yticks(size=12);\n",
    "    plt.show()\n",
    "\n",
    "    data['sender_name'].value_counts()[-10:].plot.bar(figsize=(15, 7.5))\n",
    "    plt.title(f'Bottom 10 Message Senders in #{channel} channels', size=15, fontweight='bold')\n",
    "    plt.xlabel(\"Sender Name\", size=18); plt.ylabel(\"Frequency\", size=14);\n",
    "    plt.xticks(size=12); plt.yticks(size=12);\n",
    "    plt.show()\n",
    "\n",
    "def draw_avg_reply_count(data, channel='Random'):\n",
    "    \"\"\"who commands many reply?\"\"\"\n",
    "\n",
    "    data.groupby('sender_name')['reply_count'].mean().sort_values(ascending=False)[:20]\\\n",
    "        .plot(kind='bar', figsize=(15,7.5));\n",
    "    plt.title(f'Average Number of reply count per Sender in #{channel}', size=20, fontweight='bold')\n",
    "    plt.xlabel(\"Sender Name\", size=18); plt.ylabel(\"Frequency\", size=18);\n",
    "    plt.xticks(size=14); plt.yticks(size=14);\n",
    "    plt.show()\n",
    "\n",
    "def draw_avg_reply_users_count(data, channel='Random'):\n",
    "    \"\"\"who commands many user reply?\"\"\"\n",
    "\n",
    "    data.groupby('sender_name')['reply_users_count'].mean().sort_values(ascending=False)[:20].plot(kind='bar',\n",
    "     figsize=(15,7.5));\n",
    "    plt.title(f'Average Number of reply user count per Sender in #{channel}', size=20, fontweight='bold')\n",
    "    plt.xlabel(\"Sender Name\", size=18); plt.ylabel(\"Frequency\", size=18);\n",
    "    plt.xticks(size=14); plt.yticks(size=14);\n",
    "    plt.show()\n",
    "\n",
    "def draw_wordcloud(msg_content, week):    \n",
    "    # word cloud visualization\n",
    "    allWords = ' '.join([twts for twts in msg_content])\n",
    "    wordCloud = WordCloud(background_color='#975429', width=500, height=300, random_state=21, max_words=500, mode='RGBA',\n",
    "                            max_font_size=140, stopwords=stopwords.words('english')).generate(allWords)\n",
    "    plt.figure(figsize=(15, 7.5))\n",
    "    plt.imshow(wordCloud, interpolation=\"bilinear\")\n",
    "    plt.axis('off')\n",
    "    plt.tight_layout()\n",
    "    plt.title(f'WordCloud for {week}', size=30)\n",
    "    plt.show()\n",
    "\n",
    "def draw_user_reaction(data, channel='General'):\n",
    "    data.groupby('sender_name')[['reply_count', 'reply_users_count']].sum()\\\n",
    "        .sort_values(by='reply_count',ascending=False)[:10].plot(kind='bar', figsize=(15, 7.5))\n",
    "    plt.title(f'User with the most reaction in #{channel}', size=25);\n",
    "    plt.xlabel(\"Sender Name\", size=18); plt.ylabel(\"Frequency\", size=18);\n",
    "    plt.xticks(size=14); plt.yticks(size=14);\n",
    "    plt.show()"
   ]
  },
  {
   "cell_type": "code",
   "execution_count": 29,
   "metadata": {},
   "outputs": [
    {
     "ename": "KeyError",
     "evalue": "'reply_users'",
     "output_type": "error",
     "traceback": [
      "\u001b[0;31m---------------------------------------------------------------------------\u001b[0m",
      "\u001b[0;31mKeyError\u001b[0m                                  Traceback (most recent call last)",
      "File \u001b[0;32m~/.pyenv/versions/3.11.4/lib/python3.11/site-packages/pandas/core/indexes/base.py:3802\u001b[0m, in \u001b[0;36mIndex.get_loc\u001b[0;34m(self, key, method, tolerance)\u001b[0m\n\u001b[1;32m   3801\u001b[0m \u001b[39mtry\u001b[39;00m:\n\u001b[0;32m-> 3802\u001b[0m     \u001b[39mreturn\u001b[39;00m \u001b[39mself\u001b[39;49m\u001b[39m.\u001b[39;49m_engine\u001b[39m.\u001b[39;49mget_loc(casted_key)\n\u001b[1;32m   3803\u001b[0m \u001b[39mexcept\u001b[39;00m \u001b[39mKeyError\u001b[39;00m \u001b[39mas\u001b[39;00m err:\n",
      "File \u001b[0;32m~/.pyenv/versions/3.11.4/lib/python3.11/site-packages/pandas/_libs/index.pyx:138\u001b[0m, in \u001b[0;36mpandas._libs.index.IndexEngine.get_loc\u001b[0;34m()\u001b[0m\n",
      "File \u001b[0;32m~/.pyenv/versions/3.11.4/lib/python3.11/site-packages/pandas/_libs/index.pyx:165\u001b[0m, in \u001b[0;36mpandas._libs.index.IndexEngine.get_loc\u001b[0;34m()\u001b[0m\n",
      "File \u001b[0;32mpandas/_libs/hashtable_class_helper.pxi:5745\u001b[0m, in \u001b[0;36mpandas._libs.hashtable.PyObjectHashTable.get_item\u001b[0;34m()\u001b[0m\n",
      "File \u001b[0;32mpandas/_libs/hashtable_class_helper.pxi:5753\u001b[0m, in \u001b[0;36mpandas._libs.hashtable.PyObjectHashTable.get_item\u001b[0;34m()\u001b[0m\n",
      "\u001b[0;31mKeyError\u001b[0m: 'reply_users'",
      "\nThe above exception was the direct cause of the following exception:\n",
      "\u001b[0;31mKeyError\u001b[0m                                  Traceback (most recent call last)",
      "\u001b[1;32m/home/nati/NetworkAnalysis/notebooks/parse_slack_data.ipynb Cell 8\u001b[0m line \u001b[0;36m2\n\u001b[1;32m     <a href='vscode-notebook-cell://wsl%2Bubuntu/home/nati/NetworkAnalysis/notebooks/parse_slack_data.ipynb#X31sdnNjb2RlLXJlbW90ZQ%3D%3D?line=20'>21</a>\u001b[0m dfall \u001b[39m=\u001b[39m slack_parser(slack_data_path)\n\u001b[1;32m     <a href='vscode-notebook-cell://wsl%2Bubuntu/home/nati/NetworkAnalysis/notebooks/parse_slack_data.ipynb#X31sdnNjb2RlLXJlbW90ZQ%3D%3D?line=22'>23</a>\u001b[0m \u001b[39m# Calculate reply count for each user\u001b[39;00m\n\u001b[0;32m---> <a href='vscode-notebook-cell://wsl%2Bubuntu/home/nati/NetworkAnalysis/notebooks/parse_slack_data.ipynb#X31sdnNjb2RlLXJlbW90ZQ%3D%3D?line=23'>24</a>\u001b[0m user_reply_count \u001b[39m=\u001b[39m dfall[\u001b[39m'\u001b[39;49m\u001b[39mreply_users\u001b[39;49m\u001b[39m'\u001b[39;49m]\u001b[39m.\u001b[39mstr\u001b[39m.\u001b[39msplit(\u001b[39m'\u001b[39m\u001b[39m,\u001b[39m\u001b[39m'\u001b[39m)\u001b[39m.\u001b[39mapply(\u001b[39mlambda\u001b[39;00m x: \u001b[39mlen\u001b[39m(x) \u001b[39mif\u001b[39;00m x[\u001b[39m0\u001b[39m] \u001b[39m!=\u001b[39m \u001b[39m'\u001b[39m\u001b[39m0\u001b[39m\u001b[39m'\u001b[39m \u001b[39melse\u001b[39;00m \u001b[39m0\u001b[39m)\n\u001b[1;32m     <a href='vscode-notebook-cell://wsl%2Bubuntu/home/nati/NetworkAnalysis/notebooks/parse_slack_data.ipynb#X31sdnNjb2RlLXJlbW90ZQ%3D%3D?line=25'>26</a>\u001b[0m \u001b[39m# Calculate mention count for each user\u001b[39;00m\n\u001b[1;32m     <a href='vscode-notebook-cell://wsl%2Bubuntu/home/nati/NetworkAnalysis/notebooks/parse_slack_data.ipynb#X31sdnNjb2RlLXJlbW90ZQ%3D%3D?line=26'>27</a>\u001b[0m user_mention_count \u001b[39m=\u001b[39m dfall[\u001b[39m'\u001b[39m\u001b[39mmsg_content\u001b[39m\u001b[39m'\u001b[39m]\u001b[39m.\u001b[39mstr\u001b[39m.\u001b[39mcount(\u001b[39m'\u001b[39m\u001b[39m@\u001b[39m\u001b[39m'\u001b[39m)\n",
      "File \u001b[0;32m~/.pyenv/versions/3.11.4/lib/python3.11/site-packages/pandas/core/frame.py:3807\u001b[0m, in \u001b[0;36mDataFrame.__getitem__\u001b[0;34m(self, key)\u001b[0m\n\u001b[1;32m   3805\u001b[0m \u001b[39mif\u001b[39;00m \u001b[39mself\u001b[39m\u001b[39m.\u001b[39mcolumns\u001b[39m.\u001b[39mnlevels \u001b[39m>\u001b[39m \u001b[39m1\u001b[39m:\n\u001b[1;32m   3806\u001b[0m     \u001b[39mreturn\u001b[39;00m \u001b[39mself\u001b[39m\u001b[39m.\u001b[39m_getitem_multilevel(key)\n\u001b[0;32m-> 3807\u001b[0m indexer \u001b[39m=\u001b[39m \u001b[39mself\u001b[39;49m\u001b[39m.\u001b[39;49mcolumns\u001b[39m.\u001b[39;49mget_loc(key)\n\u001b[1;32m   3808\u001b[0m \u001b[39mif\u001b[39;00m is_integer(indexer):\n\u001b[1;32m   3809\u001b[0m     indexer \u001b[39m=\u001b[39m [indexer]\n",
      "File \u001b[0;32m~/.pyenv/versions/3.11.4/lib/python3.11/site-packages/pandas/core/indexes/base.py:3804\u001b[0m, in \u001b[0;36mIndex.get_loc\u001b[0;34m(self, key, method, tolerance)\u001b[0m\n\u001b[1;32m   3802\u001b[0m     \u001b[39mreturn\u001b[39;00m \u001b[39mself\u001b[39m\u001b[39m.\u001b[39m_engine\u001b[39m.\u001b[39mget_loc(casted_key)\n\u001b[1;32m   3803\u001b[0m \u001b[39mexcept\u001b[39;00m \u001b[39mKeyError\u001b[39;00m \u001b[39mas\u001b[39;00m err:\n\u001b[0;32m-> 3804\u001b[0m     \u001b[39mraise\u001b[39;00m \u001b[39mKeyError\u001b[39;00m(key) \u001b[39mfrom\u001b[39;00m \u001b[39merr\u001b[39;00m\n\u001b[1;32m   3805\u001b[0m \u001b[39mexcept\u001b[39;00m \u001b[39mTypeError\u001b[39;00m:\n\u001b[1;32m   3806\u001b[0m     \u001b[39m# If we have a listlike key, _check_indexing_error will raise\u001b[39;00m\n\u001b[1;32m   3807\u001b[0m     \u001b[39m#  InvalidIndexError. Otherwise we fall through and re-raise\u001b[39;00m\n\u001b[1;32m   3808\u001b[0m     \u001b[39m#  the TypeError.\u001b[39;00m\n\u001b[1;32m   3809\u001b[0m     \u001b[39mself\u001b[39m\u001b[39m.\u001b[39m_check_indexing_error(key)\n",
      "\u001b[0;31mKeyError\u001b[0m: 'reply_users'"
     ]
    }
   ],
   "source": [
    "rpath = os.path.abspath('..')\n",
    "if rpath not in sys.path:\n",
    "    sys.path.insert(0, rpath)\n",
    "\n",
    "import os\n",
    "import pandas as pd\n",
    "import glob\n",
    "from src.loader import SlackDataLoader, slack_parser, parse_slack_reaction\n",
    "\n",
    "# Provide the path to the Slack exported data folder\n",
    "slack_data_path = os.path.abspath('../anonymized')\n",
    "\n",
    "# Create an instance of SlackDataLoader\n",
    "slack_data_loader = SlackDataLoader(slack_data_path)\n",
    "\n",
    "# Get the users and channels from the Slack data\n",
    "users = slack_data_loader.get_users()\n",
    "channels = slack_data_loader.get_channels()\n",
    "\n",
    "# Process the Slack data and extract the required information\n",
    "dfall = slack_parser(slack_data_path)\n",
    "\n",
    "# Calculate reply count for each user\n",
    "user_reply_count = dfall['reply_users'].str.split(',').apply(lambda x: len(x) if x[0] != '0' else 0)\n",
    "\n",
    "# Calculate mention count for each user\n",
    "user_mention_count = dfall['msg_content'].str.count('@')\n",
    "\n",
    "# Calculate message count for each user\n",
    "user_message_count = dfall.groupby('sender_name').size()\n",
    "\n",
    "# Calculate reaction count for each user\n",
    "user_reaction_counts = dfall.groupby('sender_name').apply(lambda x: parse_slack_reaction(slack_data_path, x['channel'])).reset_index(drop=True)\n",
    "user_reaction_count = user_reaction_counts.groupby('user_id').size()\n",
    "\n",
    "# Create a new DataFrame with user names and their corresponding counts\n",
    "user_counts_df = pd.DataFrame({\n",
    "    'User': dfall['sender_name'],\n",
    "    'Reply_Count': user_reply_count,\n",
    "    'Mention_Count': user_mention_count,\n",
    "    'Message_Count': user_message_count,\n",
    "    'Reaction_Count': user_reaction_count\n",
    "})\n",
    "\n",
    "# Sort the DataFrame by reply count in descending order\n",
    "sorted_reply_counts = user_counts_df.sort_values(by='Reply_Count', ascending=False)\n",
    "\n",
    "# Retrieve the top and bottom 10 users by reply count\n",
    "top_10_reply_users = sorted_reply_counts.head(10)\n",
    "bottom_10_reply_users = sorted_reply_counts.tail(10)\n",
    "\n",
    "# Sort the DataFrame by mention count in descending order\n",
    "sorted_mention_counts = user_counts_df.sort_values(by='Mention_Count', ascending=False)\n",
    "\n",
    "# Retrieve the top and bottom 10 users by mention count\n",
    "top_10_mention_users = sorted_mention_counts.head(10)\n",
    "bottom_10_mention_users = sorted_mention_counts.tail(10)\n",
    "\n",
    "# Sort the DataFrame by message count in descending order\n",
    "sorted_message_counts = user_counts_df.sort_values(by='Message_Count', ascending=False)\n",
    "\n",
    "# Retrieve the top and bottom 10 users by message count\n",
    "top_10_message_users = sorted_message_counts.head(10)\n",
    "bottom_10_message_users = sorted_message_counts.tail(10)\n",
    "\n",
    "# Sort the DataFrame by reaction count in descending order\n",
    "sorted_reaction_counts = user_counts_df.sort_values(by='Reaction_Count', ascending=False)\n",
    "\n",
    "# Retrieve the top and bottom 10 users by reaction count\n",
    "top_10_reaction_users = sorted_reaction_counts.head(10)\n",
    "bottom_10_reaction_users = sorted_reaction_counts.tail(10)\n",
    "\n",
    "# Print the results\n",
    "print(\"Top 10 Users by Reply Count:\")\n",
    "print(top_10_reply_users)\n",
    "print(\"\\nBottom 10 Users by Reply Count:\")\n",
    "print(bottom_10_reply_users)\n",
    "print(\"\\nTop 10 Users by Mention Count:\")\n",
    "print(top_10_mention_users)\n",
    "print(\"\\nBottom 10 Users by Mention Count:\")\n",
    "print(bottom_10_mention_users)\n",
    "print(\"\\nTop 10 Users by Message Count:\")\n",
    "print(top_10_message_users)\n",
    "print(\"\\nBottom 10 Users by Message Count:\")\n",
    "print(bottom_10_message_users)\n",
    "print(\"\\nTop 10 Users by Reaction Count:\")\n",
    "print(top_10_reaction_users)\n",
    "print(\"\\nBottom 10 Users by Reaction Count:\")\n",
    "print(bottom_10_reaction_users)"
   ]
  },
  {
   "cell_type": "code",
   "execution_count": null,
   "metadata": {},
   "outputs": [],
   "source": [
    "# def get_top_20_user(data, channel='Random'):\n",
    "#     \"\"\"get user with the highest number of message sent to any channel\"\"\"\n",
    "\n",
    "#     data['sender_name'].value_counts()[:20].plot.bar(figsize=(15, 7.5))\n",
    "#     plt.title(f'Top 20 Message Senders in #{channel} channels', size=15, fontweight='bold')\n",
    "#     plt.xlabel(\"Sender Name\", size=18); plt.ylabel(\"Frequency\", size=14);\n",
    "#     plt.xticks(size=12); plt.yticks(size=12);\n",
    "#     plt.show()\n",
    "\n",
    "#     data['sender_name'].value_counts()[-10:].plot.bar(figsize=(15, 7.5))\n",
    "#     plt.title(f'Bottom 10 Message Senders in #{channel} channels', size=15, fontweight='bold')\n",
    "#     plt.xlabel(\"Sender Name\", size=18); plt.ylabel(\"Frequency\", size=14);\n",
    "#     plt.xticks(size=12); plt.yticks(size=12);\n",
    "#     plt.show()\n",
    "\n",
    "# def draw_avg_reply_count(data, channel='Random'):\n",
    "#     \"\"\"who commands many reply?\"\"\"\n",
    "\n",
    "#     data.groupby('sender_name')['reply_count'].mean().sort_values(ascending=False)[:20]\\\n",
    "#         .plot(kind='bar', figsize=(15,7.5));\n",
    "#     plt.title(f'Average Number of reply count per Sender in #{channel}', size=20, fontweight='bold')\n",
    "#     plt.xlabel(\"Sender Name\", size=18); plt.ylabel(\"Frequency\", size=18);\n",
    "#     plt.xticks(size=14); plt.yticks(size=14);\n",
    "#     plt.show()\n",
    "\n",
    "# def draw_avg_reply_users_count(data, channel='Random'):\n",
    "#     \"\"\"who commands many user reply?\"\"\"\n",
    "\n",
    "#     data.groupby('sender_name')['reply_users_count'].mean().sort_values(ascending=False)[:20].plot(kind='bar',\n",
    "#      figsize=(15,7.5));\n",
    "#     plt.title(f'Average Number of reply user count per Sender in #{channel}', size=20, fontweight='bold')\n",
    "#     plt.xlabel(\"Sender Name\", size=18); plt.ylabel(\"Frequency\", size=18);\n",
    "#     plt.xticks(size=14); plt.yticks(size=14);\n",
    "#     plt.show()\n",
    "\n",
    "# def draw_wordcloud(msg_content, week):    \n",
    "#     # word cloud visualization\n",
    "#     allWords = ' '.join([twts for twts in msg_content])\n",
    "#     wordCloud = WordCloud(background_color='#975429', width=500, height=300, random_state=21, max_words=500, mode='RGBA',\n",
    "#                             max_font_size=140, stopwords=stopwords.words('english')).generate(allWords)\n",
    "#     plt.figure(figsize=(15, 7.5))\n",
    "#     plt.imshow(wordCloud, interpolation=\"bilinear\")\n",
    "#     plt.axis('off')\n",
    "#     plt.tight_layout()\n",
    "#     plt.title(f'WordCloud for {week}', size=30)\n",
    "#     plt.show()\n",
    "\n",
    "# def draw_user_reaction(data, channel='General'):\n",
    "#     data.groupby('sender_name')[['reply_count', 'reply_users_count']].sum()\\\n",
    "#         .sort_values(by='reply_count',ascending=False)[:10].plot(kind='bar', figsize=(15, 7.5))\n",
    "#     plt.title(f'User with the most reaction in #{channel}', size=25);\n",
    "#     plt.xlabel(\"Sender Name\", size=18); plt.ylabel(\"Frequency\", size=18);\n",
    "#     plt.xticks(size=14); plt.yticks(size=14);\n",
    "#     plt.show()"
   ]
  },
  {
   "cell_type": "markdown",
   "metadata": {},
   "source": [
    "## Insight Extraction\n",
    "\n",
    "Below are some useful questions to answer. Feel free to explore to answer other interesting questions that may be of help to get insight about student's behaviour, need, and future performance "
   ]
  },
  {
   "cell_type": "code",
   "execution_count": 8,
   "metadata": {},
   "outputs": [],
   "source": [
    "# which user has the highest number of reply counts?"
   ]
  },
  {
   "cell_type": "code",
   "execution_count": 9,
   "metadata": {},
   "outputs": [],
   "source": [
    "# Visualize reply counts per user per channel"
   ]
  },
  {
   "cell_type": "code",
   "execution_count": 10,
   "metadata": {},
   "outputs": [],
   "source": [
    "# what is the time range of the day that most messages are sent?\n"
   ]
  },
  {
   "cell_type": "code",
   "execution_count": 11,
   "metadata": {},
   "outputs": [],
   "source": [
    "# what kind of messages are replied faster than others?"
   ]
  },
  {
   "cell_type": "code",
   "execution_count": 12,
   "metadata": {},
   "outputs": [],
   "source": [
    "# Relationship between # of messages and # of reactions"
   ]
  },
  {
   "cell_type": "code",
   "execution_count": 13,
   "metadata": {},
   "outputs": [],
   "source": [
    "# Classify messages into different categories such as questions, answers, comments, etc."
   ]
  },
  {
   "cell_type": "code",
   "execution_count": 14,
   "metadata": {},
   "outputs": [],
   "source": [
    "# Which users got the most reactions?"
   ]
  },
  {
   "cell_type": "code",
   "execution_count": 15,
   "metadata": {},
   "outputs": [],
   "source": [
    "# Model topics mentioned in the channel"
   ]
  },
  {
   "cell_type": "code",
   "execution_count": 16,
   "metadata": {},
   "outputs": [],
   "source": [
    "# What are the topics that got the most reactions?"
   ]
  },
  {
   "cell_type": "markdown",
   "metadata": {},
   "source": [
    "### Harder questions to look into"
   ]
  },
  {
   "cell_type": "code",
   "execution_count": 17,
   "metadata": {},
   "outputs": [],
   "source": [
    "# Based on messages, reactions, references shared, and other relevant data such as classification of questions into techical question, comment, answer, aorder stu the python, statistics, and sql skill level of a user?"
   ]
  }
 ],
 "metadata": {
  "kernelspec": {
   "display_name": "Python 3",
   "language": "python",
   "name": "python3"
  },
  "language_info": {
   "codemirror_mode": {
    "name": "ipython",
    "version": 3
   },
   "file_extension": ".py",
   "mimetype": "text/x-python",
   "name": "python",
   "nbconvert_exporter": "python",
   "pygments_lexer": "ipython3",
   "version": "3.11.4"
  }
 },
 "nbformat": 4,
 "nbformat_minor": 4
}
